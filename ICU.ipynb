{
 "cells": [
  {
   "cell_type": "markdown",
   "metadata": {
    "slideshow": {
     "slide_type": "slide"
    }
   },
   "source": [
    "# ICU / CLDR / intl"
   ]
  },
  {
   "cell_type": "markdown",
   "metadata": {
    "slideshow": {
     "slide_type": "notes"
    }
   },
   "source": [
    "## Úvod\n",
    "\n",
    "Jistě již Vás někdy potkala některá z následujících situací:\n",
    "\n",
    "* Našli jste Česko v seznamu zemí zahrabané až kdesi za Zimbabwe.\n",
    "* Zvolili jste špatné datum, protože týden v grafickém kalendáři nezačínal pondělím.\n",
    "* Nebyli jste si jisti, která část data je den a která měsíc.\n",
    "* Zkopírovali jste „2 souborů“.\n",
    "* Přišel Vám e-mail nadepsaný „Byl(a) jste s našimi službami spokojen(a)?“\n",
    "* Nevěděli jste, v jakém časovém pásmu jsou uvedeny časy v jízdním řádu.\n",
    "* Místo popisků tlačítek jste viděli jen výpustku.\n",
    "* Nechtěně jste zadali stovky místo jednotek kvůli desetinné tečce místo čárky.\n",
    "\n",
    "Nejen to nám pomáhá vyřešit knihovna ICU a databáze CLDR.\n",
    "\n",
    "Spousta programátorů by byla ráda, kdyby všichni na světě používali jednotný systém prakticky všeho, nejlépe i jen jediný jazyk. Některým by snad stačilo, kdyby všichni aspoň používali latinku a arabské číslice. Jenže… lidi nezměníte a software děláte pro ně.\n",
    "\n",
    "Podpora cizích jazyků je zásadní. Nesmí se stát, že rozdíly v jazyce, znakové sadě či národním prostředí způsobí, že aplikace nebude fungovat. Dobře udělaná lokalizace a přizpůsobení národnímu prostředí, které není zásadní pro funkčnost, je dalším krokem: výrazně zlepšuje to, jak je nám používání aplikace příjemné."
   ]
  },
  {
   "cell_type": "markdown",
   "metadata": {
    "slideshow": {
     "slide_type": "notes"
    }
   },
   "source": [
    "### Příklady\n",
    "\n",
    "* Nejhorší: Kvůli rozdílu v nastavení oddělovačů tisíců nepůjde odeslat formulář s částkou.\n",
    "* Nepříjemné: Nadpisy článků, které nejsou latinkou, vytvoří nesrozumitelné adresy: _------_ místo _privet_.\n",
    "* Kosmetické: Datum se zobrazí s jiným pořadím jednotlivých součástí."
   ]
  },
  {
   "cell_type": "markdown",
   "metadata": {
    "slideshow": {
     "slide_type": "notes"
    }
   },
   "source": [
    "### Co už jsem slyšel\n",
    "\n",
    "* Sestavujte věty tak, aby nebylo potřeba měnit tvary slov.\n",
    "* Nemůžeme ty ruské e-maily posílat napsané latinkou?"
   ]
  },
  {
   "cell_type": "markdown",
   "metadata": {
    "slideshow": {
     "slide_type": "slide"
    }
   },
   "source": [
    "## IntlDateFormatter"
   ]
  },
  {
   "cell_type": "code",
   "execution_count": 59,
   "metadata": {
    "slideshow": {
     "slide_type": "subslide"
    }
   },
   "outputs": [
    {
     "data": {
      "text/plain": [
       "\"\u001b[32m19. října 2018 1:49:42 SELČ\u001b[39m\""
      ]
     },
     "execution_count": 59,
     "metadata": {},
     "output_type": "execute_result"
    }
   ],
   "source": [
    "$dateFormat = IntlDateFormatter::LONG;\n",
    "$timeFormat = IntlDateFormatter::LONG;\n",
    "$timeZone = new DateTimeZone('Europe/Prague');\n",
    "$formatter = new IntlDateFormatter('cs_CZ', $dateFormat, $timeFormat, $timeZone);\n",
    "$dateTime = new DateTime;\n",
    "$formatter->format($dateTime);"
   ]
  },
  {
   "cell_type": "markdown",
   "metadata": {
    "slideshow": {
     "slide_type": "slide"
    }
   },
   "source": [
    "## NumberFormatter"
   ]
  },
  {
   "cell_type": "code",
   "execution_count": 40,
   "metadata": {
    "slideshow": {
     "slide_type": "subslide"
    }
   },
   "outputs": [
    {
     "data": {
      "text/plain": [
       "[\n",
       "  \"\u001b[32m123 456 789,012\u001b[39m\",\n",
       "  \"\u001b[32m123 456 789,0123\u001b[39m\",\n",
       "]"
      ]
     },
     "execution_count": 40,
     "metadata": {},
     "output_type": "execute_result"
    }
   ],
   "source": [
    "$out = [];\n",
    "$decimalFormatter = new NumberFormatter('cs_CZ', NumberFormatter::DECIMAL);\n",
    "$out[] = $decimalFormatter->format(123456789.0123456);\n",
    "$decimalFormatter->setAttribute(NumberFormatter::MAX_FRACTION_DIGITS, 4);\n",
    "$out[] = $decimalFormatter->format(123456789.0123456);\n",
    "$out;"
   ]
  },
  {
   "cell_type": "code",
   "execution_count": 37,
   "metadata": {
    "slideshow": {
     "slide_type": "fragment"
    }
   },
   "outputs": [
    {
     "data": {
      "text/plain": [
       "\"\u001b[32msto dvacet tři tisíc čtyři sta padesát šest\u001b[39m\""
      ]
     },
     "execution_count": 37,
     "metadata": {},
     "output_type": "execute_result"
    }
   ],
   "source": [
    "$spelloutFormatter = new NumberFormatter('cs_CZ', NumberFormatter::SPELLOUT);\n",
    "$spelloutFormatter->format(123456);"
   ]
  },
  {
   "cell_type": "code",
   "execution_count": 39,
   "metadata": {},
   "outputs": [
    {
     "data": {
      "text/plain": [
       "\"\u001b[32m1 234,57 Kč\u001b[39m\""
      ]
     },
     "execution_count": 39,
     "metadata": {},
     "output_type": "execute_result"
    }
   ],
   "source": [
    "$spelloutFormatter = new NumberFormatter('cs_CZ', NumberFormatter::CURRENCY);\n",
    "$spelloutFormatter->format(1234.5678);"
   ]
  },
  {
   "cell_type": "markdown",
   "metadata": {
    "slideshow": {
     "slide_type": "slide"
    }
   },
   "source": [
    "## Collator"
   ]
  },
  {
   "cell_type": "code",
   "execution_count": 43,
   "metadata": {
    "slideshow": {
     "slide_type": "subslide"
    }
   },
   "outputs": [
    {
     "data": {
      "text/plain": [
       "[\n",
       "  \"\u001b[32mcetie\u001b[39m\",\n",
       "  \"\u001b[32mchřástal\u001b[39m\",\n",
       "  \"\u001b[32mdatel\u001b[39m\",\n",
       "  \"\u001b[32mturpan\u001b[39m\",\n",
       "  \"\u001b[32mčáp\u001b[39m\",\n",
       "  \"\u001b[32mčížek\u001b[39m\",\n",
       "  \"\u001b[32mťuhýk\u001b[39m\",\n",
       "]"
      ]
     },
     "execution_count": 43,
     "metadata": {},
     "output_type": "execute_result"
    }
   ],
   "source": [
    "$birds = ['chřástal', 'čížek', 'ťuhýk', 'datel', 'čáp', 'turpan', 'cetie'];\n",
    "sort($birds);\n",
    "$birds;"
   ]
  },
  {
   "cell_type": "code",
   "execution_count": 44,
   "metadata": {
    "slideshow": {
     "slide_type": "fragment"
    }
   },
   "outputs": [
    {
     "data": {
      "text/plain": [
       "[\n",
       "  \"\u001b[32mcetie\u001b[39m\",\n",
       "  \"\u001b[32mčáp\u001b[39m\",\n",
       "  \"\u001b[32mčížek\u001b[39m\",\n",
       "  \"\u001b[32mdatel\u001b[39m\",\n",
       "  \"\u001b[32mchřástal\u001b[39m\",\n",
       "  \"\u001b[32mťuhýk\u001b[39m\",\n",
       "  \"\u001b[32mturpan\u001b[39m\",\n",
       "]"
      ]
     },
     "execution_count": 44,
     "metadata": {},
     "output_type": "execute_result"
    }
   ],
   "source": [
    "$birds = ['chřástal', 'čížek', 'ťuhýk', 'datel', 'čáp', 'turpan', 'cetie'];\n",
    "$collator = new Collator('cs_CZ');\n",
    "$collator->sort($birds);\n",
    "\n",
    "$birds;"
   ]
  },
  {
   "cell_type": "markdown",
   "metadata": {
    "slideshow": {
     "slide_type": "notes"
    }
   },
   "source": [
    "Příklad ze života: Telefonní seznam některých starších Nokií správně řadil _ch_ až za _h_. Vyhledávání však zpracovával postupně po jednotlivých písmenech. Jména obsahující _ch_ tak nebylo možné vyhledat zadáním _ch_ do vyhledávacího pole."
   ]
  },
  {
   "cell_type": "markdown",
   "metadata": {
    "slideshow": {
     "slide_type": "slide"
    }
   },
   "source": [
    "## MessageFormatter"
   ]
  },
  {
   "cell_type": "markdown",
   "metadata": {
    "slideshow": {
     "slide_type": "notes"
    }
   },
   "source": [
    "Už jsem slyšel i výzvy: tak ty věty pište tak, aby se slova neměnila v závislosti na čísle.\n",
    "\n",
    "> Počet jablek, která měla babka: 4.\n",
    "\n",
    "Jako vážně?"
   ]
  },
  {
   "cell_type": "code",
   "execution_count": 1,
   "metadata": {
    "slideshow": {
     "slide_type": "subslide"
    }
   },
   "outputs": [
    {
     "data": {
      "text/plain": [
       "\"\u001b[32mMěla babka 5 jablek.\u001b[39m\""
      ]
     },
     "execution_count": 1,
     "metadata": {},
     "output_type": "execute_result"
    }
   ],
   "source": [
    "$appleCount = 5;\n",
    "\"Měla babka $appleCount jablek.\";"
   ]
  },
  {
   "cell_type": "code",
   "execution_count": 3,
   "metadata": {
    "slideshow": {
     "slide_type": "fragment"
    }
   },
   "outputs": [
    {
     "data": {
      "text/plain": [
       "\"\u001b[32mMěla babka 1.1 jablek.\u001b[39m\""
      ]
     },
     "execution_count": 3,
     "metadata": {},
     "output_type": "execute_result"
    }
   ],
   "source": [
    "$appleCount = 1.1;\n",
    "\"Měla babka $appleCount jablek.\";"
   ]
  },
  {
   "cell_type": "code",
   "execution_count": 46,
   "metadata": {
    "slideshow": {
     "slide_type": "subslide"
    }
   },
   "outputs": [
    {
     "data": {
      "text/plain": [
       "[\n",
       "  \"\u001b[32mMěla babka 1 jablko.\u001b[39m\",\n",
       "  \"\u001b[32mMěla babka 4 jablka.\u001b[39m\",\n",
       "  \"\u001b[32mMěla babka 5 jablek.\u001b[39m\",\n",
       "  \"\u001b[32mMěla babka 5,5 jablka.\u001b[39m\",\n",
       "  \"\u001b[32mMěla babka 0 jablek.\u001b[39m\",\n",
       "]"
      ]
     },
     "execution_count": 46,
     "metadata": {},
     "output_type": "execute_result"
    }
   ],
   "source": [
    "$countPattern = 'Měla babka {apple_count, number} {apple_count, plural, one {jablko} '  .\n",
    "                                                                            'few {jablka} ' . \n",
    "                                                                            'many {jablka} ' .\n",
    "                                                                            'other {jablek}}.';\n",
    "$formatter = new MessageFormatter('cs_CZ', $countPattern);\n",
    "\n",
    "$appleCounts = [1, 4, 5, 5.5, 0];\n",
    "$messages = [];\n",
    "foreach($appleCounts as $appleCount) {\n",
    "    $messages[] = $formatter->format(['apple_count' => $appleCount]);\n",
    "}\n",
    "\n",
    "$messages;"
   ]
  },
  {
   "cell_type": "code",
   "execution_count": 47,
   "metadata": {
    "slideshow": {
     "slide_type": "fragment"
    }
   },
   "outputs": [
    {
     "data": {
      "text/plain": [
       "[\n",
       "  \"\u001b[32mDědek měl jablka.\u001b[39m\",\n",
       "  \"\u001b[32mBabka měla jablka.\u001b[39m\",\n",
       "  \"\u001b[32mVnouče mělo jablka.\u001b[39m\",\n",
       "]"
      ]
     },
     "execution_count": 47,
     "metadata": {},
     "output_type": "execute_result"
    }
   ],
   "source": [
    "$genderPattern = '{gender, select, m {{subject} měl jablka.} ' .\n",
    "                                  'f {{subject} měla jablka.} ' .\n",
    "                                  'n {{subject} mělo jablka.} ' .\n",
    "                                  'other {{subject} si nezaslouží jablka.}}';\n",
    "$formatter = new MessageFormatter('cs_CZ', $genderPattern);\n",
    "\n",
    "$examples = [['subject' => 'Dědek', 'gender' => 'm'],\n",
    "             ['subject' => 'Babka', 'gender' => 'f'],\n",
    "             ['subject' => 'Vnouče', 'gender' => 'n']];\n",
    "$messages = [];\n",
    "foreach($examples as $example) {\n",
    "    $messages[] = $formatter->format($example);\n",
    "}\n",
    "$messages;"
   ]
  },
  {
   "cell_type": "markdown",
   "metadata": {
    "slideshow": {
     "slide_type": "slide"
    }
   },
   "source": [
    "## Normalizer"
   ]
  },
  {
   "cell_type": "code",
   "execution_count": 74,
   "metadata": {},
   "outputs": [
    {
     "data": {
      "text/plain": [
       "[\n",
       "  \"\u001b[32mkůň\u001b[39m\",\n",
       "  \u001b[35m5\u001b[39m,\n",
       "  \u001b[36mfalse\u001b[39m,\n",
       "  \"\u001b[32mkůň\u001b[39m\",\n",
       "  \u001b[35m3\u001b[39m,\n",
       "  \u001b[36mtrue\u001b[39m,\n",
       "  \u001b[36mfalse\u001b[39m,\n",
       "]"
      ]
     },
     "execution_count": 74,
     "metadata": {},
     "output_type": "execute_result"
    }
   ],
   "source": [
    "$out = [];\n",
    "$original = 'k' . 'u' . '̊' . 'n' . '̌';\n",
    "$out[] = $original;\n",
    "$out[] = mb_strlen($original);\n",
    "$out[] = Normalizer::isNormalized($original);\n",
    "\n",
    "$normalized = Normalizer::normalize($original);\n",
    "$out[] = $normalized;\n",
    "$out[] = mb_strlen($normalized);\n",
    "$out[] = Normalizer::isNormalized($normalized);\n",
    "\n",
    "$out[] = $original == $normalized;\n",
    "$out;"
   ]
  },
  {
   "cell_type": "markdown",
   "metadata": {
    "slideshow": {
     "slide_type": "notes"
    }
   },
   "source": [
    "Narazil jsem na chybu v jádře Ruby: při vytvoření souboru na souborovém systému HFS souborový systém název souboru normalizuje, když se předá nenormalizovaný. Ruby si ale ponechalo původní nenormalizovaný název, pod kterým zapsaný soubor nebylo možné nalézt."
   ]
  },
  {
   "cell_type": "markdown",
   "metadata": {
    "slideshow": {
     "slide_type": "slide"
    }
   },
   "source": [
    "## Transliterate"
   ]
  },
  {
   "cell_type": "markdown",
   "metadata": {
    "slideshow": {
     "slide_type": "slide"
    }
   },
   "source": [
    "## IntlChar"
   ]
  },
  {
   "cell_type": "code",
   "execution_count": 81,
   "metadata": {
    "slideshow": {
     "slide_type": "subslide"
    }
   },
   "outputs": [
    {
     "data": {
      "text/plain": [
       "[\n",
       "  \"\u001b[32mLATIN SMALL LETTER N WITH CARON\u001b[39m\",\n",
       "  \"\u001b[32mDEGREE CELSIUS\u001b[39m\",\n",
       "  \"\u001b[32mHIRAGANA LETTER HU\u001b[39m\",\n",
       "  \"\u001b[32mHANGUL SYLLABLE GAELS\u001b[39m\",\n",
       "  \"\u001b[32mBEER MUG\u001b[39m\",\n",
       "]"
      ]
     },
     "execution_count": 81,
     "metadata": {},
     "output_type": "execute_result"
    }
   ],
   "source": [
    "$out = [];\n",
    "$chars = ['ň', '℃', 'ふ', '갨', '🍺'];\n",
    "foreach ($chars as $char) {\n",
    "    $out[] = IntlChar::charname($char);\n",
    "}\n",
    "$out;"
   ]
  },
  {
   "cell_type": "code",
   "execution_count": 84,
   "metadata": {
    "slideshow": {
     "slide_type": "fragment"
    }
   },
   "outputs": [
    {
     "data": {
      "text/plain": [
       "[\n",
       "  [\n",
       "    \u001b[36mfalse\u001b[39m,\n",
       "    \u001b[36mtrue\u001b[39m,\n",
       "  ],\n",
       "  [\n",
       "    \u001b[36mtrue\u001b[39m,\n",
       "    \u001b[36mtrue\u001b[39m,\n",
       "  ],\n",
       "  [\n",
       "    \u001b[36mfalse\u001b[39m,\n",
       "    \u001b[36mtrue\u001b[39m,\n",
       "  ],\n",
       "]"
      ]
     },
     "execution_count": 84,
     "metadata": {},
     "output_type": "execute_result"
    }
   ],
   "source": [
    "$out = [];\n",
    "\n",
    "$chars = ['Ň', 'ň', '🍺'];\n",
    "foreach ($chars as $char) {\n",
    "    $out[] = [IntlChar::islower($char), IntlChar::isgraph($char)];\n",
    "}\n",
    "\n",
    "$out;"
   ]
  },
  {
   "cell_type": "code",
   "execution_count": 93,
   "metadata": {
    "slideshow": {
     "slide_type": "fragment"
    }
   },
   "outputs": [
    {
     "data": {
      "text/plain": [
       "[\n",
       "  \u001b[35m1\u001b[39m,\n",
       "  \u001b[36mfalse\u001b[39m,\n",
       "  \u001b[36mtrue\u001b[39m,\n",
       "]"
      ]
     },
     "execution_count": 93,
     "metadata": {},
     "output_type": "execute_result"
    }
   ],
   "source": [
    "$out = [];\n",
    "$char = ' ';\n",
    "$trimmed = trim($char);\n",
    "$out[] = mb_strlen($trimmed);\n",
    "$out[] = IntlChar::isWhiteSpace($char);\n",
    "$out[] = IntlChar::isUWhiteSpace($char);\n",
    "$out;"
   ]
  },
  {
   "cell_type": "markdown",
   "metadata": {
    "slideshow": {
     "slide_type": "slide"
    }
   },
   "source": [
    "## CIDR? Počty slov? …"
   ]
  }
 ],
 "metadata": {
  "celltoolbar": "Slideshow",
  "kernelspec": {
   "display_name": "PHP",
   "language": "php",
   "name": "jupyter-php"
  },
  "language_info": {
   "file_extension": ".php",
   "mimetype": "text/x-php",
   "name": "PHP",
   "pygments_lexer": "PHP",
   "version": "7.2.11"
  }
 },
 "nbformat": 4,
 "nbformat_minor": 2
}
