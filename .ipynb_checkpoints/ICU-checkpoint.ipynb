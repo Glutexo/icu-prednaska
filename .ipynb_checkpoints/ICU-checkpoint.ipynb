{
 "cells": [
  {
   "cell_type": "markdown",
   "metadata": {
    "slideshow": {
     "slide_type": "slide"
    }
   },
   "source": [
    "# ICU / intl"
   ]
  },
  {
   "cell_type": "code",
   "execution_count": 103,
   "metadata": {
    "slideshow": {
     "slide_type": "subslide"
    }
   },
   "outputs": [
    {
     "data": {
      "text/plain": [
       "[\n",
       "  \"\u001b[34mcs_CZ\u001b[39m\" => [\n",
       "    \"\u001b[32mBlabla: 💩\u001b[39m\",\n",
       "  ],\n",
       "  \"\u001b[34mja_JP\u001b[39m\" => [\n",
       "    \"\u001b[32mBlabla: 💩\u001b[39m\",\n",
       "  ],\n",
       "]"
      ]
     },
     "execution_count": 103,
     "metadata": {},
     "output_type": "execute_result"
    }
   ],
   "source": [
    "out(function () {\n",
    "    yield ['Blabla', '💩'];\n",
    "}, $locales);"
   ]
  },
  {
   "cell_type": "code",
   "execution_count": 1,
   "metadata": {
    "slideshow": {
     "slide_type": "notes"
    }
   },
   "outputs": [
    {
     "data": {
      "text/plain": [
       "[\n",
       "  \"\u001b[32mcs_CZ\u001b[39m\",\n",
       "  \"\u001b[32mja_JP\u001b[39m\",\n",
       "]"
      ]
     },
     "execution_count": 1,
     "metadata": {},
     "output_type": "execute_result"
    }
   ],
   "source": [
    "function canonicalize ($item) {\n",
    "    if (is_array($item)) {\n",
    "        return implode(', ', $item);\n",
    "    }\n",
    "    \n",
    "    if (is_null($item)) {\n",
    "        return 'null';\n",
    "    }\n",
    "    \n",
    "    if (is_bool($item)) {\n",
    "        return $item ? 'true' : 'false';\n",
    "    }\n",
    "    \n",
    "    if (is_int($item) || is_float($item)) {\n",
    "        return \"{$item}\";\n",
    "    }\n",
    "    \n",
    "    if (is_string($item)) {\n",
    "        return $item;\n",
    "    }\n",
    "    \n",
    "    return \"\";\n",
    "}\n",
    "\n",
    "function single_out(callable $function, ...$args) {\n",
    "    $out = [];\n",
    "    foreach ($function(...$args) as $item) {\n",
    "        if (is_null($item[0])) {\n",
    "            $out[] = canonicalize($item[1]);\n",
    "            continue;\n",
    "        }\n",
    "        \n",
    "        $key = canonicalize($item[0]);\n",
    "        $value = canonicalize($item[1]);\n",
    "        $out[] = \"{$key}: {$value}\";\n",
    "    }\n",
    "    return $out;\n",
    "}\n",
    "\n",
    "function out (callable $function, ?array $locales = null) {\n",
    "    if (is_null($locales)) {\n",
    "        return single_out($function);\n",
    "    }\n",
    "    \n",
    "    $out = [];\n",
    "    foreach ($locales as $locale) {\n",
    "        $out[$locale] = single_out($function, $locale);\n",
    "    }\n",
    "    \n",
    "    return $out;\n",
    "}\n",
    "\n",
    "$locales = ['cs_CZ', 'ja_JP'];"
   ]
  },
  {
   "cell_type": "markdown",
   "metadata": {
    "slideshow": {
     "slide_type": "notes"
    }
   },
   "source": [
    "## Úvod\n",
    "\n",
    "Jistě již Vás někdy potkala některá z následujících situací:\n",
    "\n",
    "* Našli jste Česko v seznamu zemí zahrabané až kdesi za Zimbabwe.\n",
    "* Zvolili jste špatné datum, protože týden v grafickém kalendáři nezačínal pondělím.\n",
    "* Nebyli jste si jisti, která část data je den a která měsíc.\n",
    "* Zkopírovali jste „2 souborů“.\n",
    "* Přišel Vám e-mail nadepsaný „Byl(a) jste s našimi službami spokojen(a)?“\n",
    "* Nevěděli jste, v jakém časovém pásmu jsou uvedeny časy v jízdním řádu.\n",
    "* Místo popisků tlačítek jste viděli jen výpustku.\n",
    "* Nechtěně jste zadali stovky místo jednotek kvůli desetinné tečce místo čárky.\n",
    "\n",
    "Nejen to nám pomáhá vyřešit knihovna ICU a databáze CLDR.\n",
    "\n",
    "Spousta programátorů by byla ráda, kdyby všichni na světě používali jednotný systém prakticky všeho, nejlépe i jen jediný jazyk. Některým by snad stačilo, kdyby všichni aspoň používali latinku a arabské číslice. Jenže… lidi nezměníte a software děláte pro ně.\n",
    "\n",
    "Podpora cizích jazyků je zásadní. Nesmí se stát, že rozdíly v jazyce, znakové sadě či národním prostředí způsobí, že aplikace nebude fungovat. Dobře udělaná lokalizace a přizpůsobení národnímu prostředí, které není zásadní pro funkčnost, je dalším krokem: výrazně zlepšuje to, jak je nám používání aplikace příjemné."
   ]
  },
  {
   "cell_type": "markdown",
   "metadata": {
    "slideshow": {
     "slide_type": "notes"
    }
   },
   "source": [
    "### Příklady\n",
    "\n",
    "* Nejhorší: Kvůli rozdílu v nastavení oddělovačů tisíců nepůjde odeslat formulář s částkou.\n",
    "* Nepříjemné: Nadpisy článků, které nejsou latinkou, vytvoří nesrozumitelné adresy: _------_ místo _privet_.\n",
    "* Kosmetické: Datum se zobrazí s jiným pořadím jednotlivých součástí."
   ]
  },
  {
   "cell_type": "markdown",
   "metadata": {
    "slideshow": {
     "slide_type": "notes"
    }
   },
   "source": [
    "### Co už jsem slyšel\n",
    "\n",
    "* Sestavujte věty tak, aby nebylo potřeba měnit tvary slov.\n",
    "* Nemůžeme ty ruské e-maily posílat napsané latinkou?"
   ]
  },
  {
   "cell_type": "markdown",
   "metadata": {
    "slideshow": {
     "slide_type": "slide"
    }
   },
   "source": [
    "## IntlDateFormatter"
   ]
  },
  {
   "cell_type": "code",
   "execution_count": 2,
   "metadata": {
    "slideshow": {
     "slide_type": "subslide"
    }
   },
   "outputs": [
    {
     "data": {
      "text/plain": [
       "[\n",
       "  \"\u001b[34mcs_CZ\u001b[39m\" => [\n",
       "    \"\u001b[32m20. října 2018 5:50:08 SELČ\u001b[39m\",\n",
       "  ],\n",
       "  \"\u001b[34mja_JP\u001b[39m\" => [\n",
       "    \"\u001b[32m20. října 2018 5:50:08 SELČ\u001b[39m\",\n",
       "  ],\n",
       "]"
      ]
     },
     "execution_count": 2,
     "metadata": {},
     "output_type": "execute_result"
    }
   ],
   "source": [
    "out(function () {\n",
    "    $dateFormat = IntlDateFormatter::LONG;\n",
    "    $timeFormat = IntlDateFormatter::LONG;\n",
    "    $timeZone = new DateTimeZone('Europe/Prague');\n",
    "    $formatter = new IntlDateFormatter('cs_CZ', $dateFormat, $timeFormat, $timeZone);\n",
    "    $dateTime = new DateTime;\n",
    "    yield [null, $formatter->format($dateTime)];\n",
    "}, $locales);"
   ]
  },
  {
   "cell_type": "markdown",
   "metadata": {
    "slideshow": {
     "slide_type": "slide"
    }
   },
   "source": [
    "## NumberFormatter"
   ]
  },
  {
   "cell_type": "code",
   "execution_count": 14,
   "metadata": {
    "slideshow": {
     "slide_type": "subslide"
    }
   },
   "outputs": [
    {
     "data": {
      "text/plain": [
       "[\n",
       "  \"\u001b[34mcs_CZ\u001b[39m\" => [\n",
       "    \"\u001b[32mdefault: 123 456 789,012\u001b[39m\",\n",
       "    \"\u001b[32mMAX_FRACTION_DIGITS: 123 456 789,0123\u001b[39m\",\n",
       "  ],\n",
       "  \"\u001b[34mja_JP\u001b[39m\" => [\n",
       "    \"\u001b[32mdefault: 123,456,789.012\u001b[39m\",\n",
       "    \"\u001b[32mMAX_FRACTION_DIGITS: 123,456,789.0123\u001b[39m\",\n",
       "  ],\n",
       "]"
      ]
     },
     "execution_count": 14,
     "metadata": {},
     "output_type": "execute_result"
    }
   ],
   "source": [
    "out(function ($locale) {\n",
    "    $formatter = new NumberFormatter($locale, NumberFormatter::DECIMAL);\n",
    "    yield ['default', $formatter->format(123456789.0123456)];\n",
    "    $formatter->setAttribute(NumberFormatter::MAX_FRACTION_DIGITS, 4);\n",
    "    yield ['MAX_FRACTION_DIGITS', $formatter->format(123456789.0123456)];\n",
    "}, $locales);"
   ]
  },
  {
   "cell_type": "code",
   "execution_count": 15,
   "metadata": {
    "slideshow": {
     "slide_type": "fragment"
    }
   },
   "outputs": [
    {
     "data": {
      "text/plain": [
       "[\n",
       "  \"\u001b[34mcs_CZ\u001b[39m\" => [\n",
       "    \"\u001b[32msto dvacet tři tisíc čtyři sta padesát šest\u001b[39m\",\n",
       "  ],\n",
       "  \"\u001b[34mja_JP\u001b[39m\" => [\n",
       "    \"\u001b[32m十二万三千四百五十六\u001b[39m\",\n",
       "  ],\n",
       "]"
      ]
     },
     "execution_count": 15,
     "metadata": {},
     "output_type": "execute_result"
    }
   ],
   "source": [
    "out(function ($locale) {\n",
    "    $formatter = new NumberFormatter($locale, NumberFormatter::SPELLOUT);\n",
    "    yield [null, $formatter->format(123456)];\n",
    "}, $locales);"
   ]
  },
  {
   "cell_type": "code",
   "execution_count": 5,
   "metadata": {},
   "outputs": [
    {
     "data": {
      "text/plain": [
       "[\n",
       "  \"\u001b[34mcs_CZ\u001b[39m\" => [\n",
       "    \"\u001b[32m1 234,57 Kč\u001b[39m\",\n",
       "  ],\n",
       "  \"\u001b[34mja_JP\u001b[39m\" => [\n",
       "    \"\u001b[32m￥1,235\u001b[39m\",\n",
       "  ],\n",
       "]"
      ]
     },
     "execution_count": 5,
     "metadata": {},
     "output_type": "execute_result"
    }
   ],
   "source": [
    "out(function ($locale) {\n",
    "    $formatter = new NumberFormatter($locale, NumberFormatter::CURRENCY);\n",
    "    yield [null, $formatter->format(1234.5678)];\n",
    "}, $locales);"
   ]
  },
  {
   "cell_type": "markdown",
   "metadata": {
    "slideshow": {
     "slide_type": "slide"
    }
   },
   "source": [
    "## Collator"
   ]
  },
  {
   "cell_type": "code",
   "execution_count": 6,
   "metadata": {
    "slideshow": {
     "slide_type": "subslide"
    }
   },
   "outputs": [
    {
     "data": {
      "text/plain": [
       "[\n",
       "  \"\u001b[32msort: cetie, chřástal, datel, turpan, čáp, čížek, ťuhýk\u001b[39m\",\n",
       "  \"\u001b[32mCollator#sort: cetie, čáp, čížek, datel, chřástal, ťuhýk, turpan\u001b[39m\",\n",
       "]"
      ]
     },
     "execution_count": 6,
     "metadata": {},
     "output_type": "execute_result"
    }
   ],
   "source": [
    "out(function () {\n",
    "    $birds = ['chřástal', 'čížek', 'ťuhýk', 'datel', 'čáp', 'turpan', 'cetie'];\n",
    "\n",
    "    sort($birds);\n",
    "    yield ['sort', $birds];\n",
    "    \n",
    "    $collator = new Collator('cs_CZ');\n",
    "    $collator->sort($birds);\n",
    "\n",
    "    yield ['Collator#sort', $birds];\n",
    "});"
   ]
  },
  {
   "cell_type": "code",
   "execution_count": 26,
   "metadata": {
    "slideshow": {
     "slide_type": "fragment"
    }
   },
   "outputs": [
    {
     "data": {
      "text/plain": [
       "[\n",
       "  \"\u001b[32milgas, ypač, itin, suolas, šąla, šarka\u001b[39m\",\n",
       "]"
      ]
     },
     "execution_count": 26,
     "metadata": {},
     "output_type": "execute_result"
    }
   ],
   "source": [
    "out(function () {\n",
    "    $words = ['šarka', 'šąla', 'itin', 'ypač', 'suolas', 'ilgas'];\n",
    "    $collator = new Collator('lt_LT');\n",
    "    $collator->sort($words);\n",
    "    \n",
    "    yield [null, $words];\n",
    "});"
   ]
  },
  {
   "cell_type": "markdown",
   "metadata": {
    "slideshow": {
     "slide_type": "notes"
    }
   },
   "source": [
    "Příklad ze života: Telefonní seznam některých starších Nokií správně řadil *ch* až za *h*. Vyhledávání však zpracovával postupně po jednotlivých písmenech. Jména obsahující *ch* tak nebylo možné vyhledat zadáním *ch* do vyhledávacího pole."
   ]
  },
  {
   "cell_type": "markdown",
   "metadata": {
    "slideshow": {
     "slide_type": "slide"
    }
   },
   "source": [
    "## MessageFormatter"
   ]
  },
  {
   "cell_type": "markdown",
   "metadata": {
    "slideshow": {
     "slide_type": "notes"
    }
   },
   "source": [
    "Už jsem slyšel i výzvy: tak ty věty pište tak, aby se slova neměnila v závislosti na čísle.\n",
    "\n",
    "> Počet jablek, která měla babka: 4.\n",
    "\n",
    "Jako vážně?"
   ]
  },
  {
   "cell_type": "code",
   "execution_count": 7,
   "metadata": {
    "slideshow": {
     "slide_type": "subslide"
    }
   },
   "outputs": [
    {
     "data": {
      "text/plain": [
       "[\n",
       "  \"\u001b[32m5: Měla babka 5 jablek.\u001b[39m\",\n",
       "  \"\u001b[32m1.1: Měla babka 1.1 jablek.\u001b[39m\",\n",
       "]"
      ]
     },
     "execution_count": 7,
     "metadata": {},
     "output_type": "execute_result"
    }
   ],
   "source": [
    "out(function() {\n",
    "    foreach ($counts = [5, 1.1] as $count) {\n",
    "        yield [\"{$count}\", \"Měla babka $count jablek.\"];\n",
    "    }\n",
    "});"
   ]
  },
  {
   "cell_type": "code",
   "execution_count": 8,
   "metadata": {
    "slideshow": {
     "slide_type": "subslide"
    }
   },
   "outputs": [
    {
     "data": {
      "text/plain": [
       "[\n",
       "  \"\u001b[32m1: Měla babka 1 jablko.\u001b[39m\",\n",
       "  \"\u001b[32m4: Měla babka 4 jablka.\u001b[39m\",\n",
       "  \"\u001b[32m5: Měla babka 5 jablek.\u001b[39m\",\n",
       "  \"\u001b[32m5.5: Měla babka 5,5 jablka.\u001b[39m\",\n",
       "  \"\u001b[32m0: Měla babka 0 jablek.\u001b[39m\",\n",
       "]"
      ]
     },
     "execution_count": 8,
     "metadata": {},
     "output_type": "execute_result"
    }
   ],
   "source": [
    "out(function () {\n",
    "    $pattern = 'Měla babka {count, number} {count, plural, one {jablko} '  .\n",
    "                                                               'few {jablka} ' . \n",
    "                                                               'many {jablka} ' .\n",
    "                                                               'other {jablek}}.';\n",
    "    $formatter = new MessageFormatter('cs_CZ', $pattern);\n",
    "\n",
    "    $counts = [1, 4, 5, 5.5, 0];\n",
    "    foreach ($counts as $count) {\n",
    "        yield [\"{$count}\", $formatter->format(['count' => $count])];\n",
    "    }\n",
    "});"
   ]
  },
  {
   "cell_type": "code",
   "execution_count": 9,
   "metadata": {
    "slideshow": {
     "slide_type": "subslide"
    }
   },
   "outputs": [
    {
     "data": {
      "text/plain": [
       "[\n",
       "  \"\u001b[32mDědek, m: Dědek měl jablka.\u001b[39m\",\n",
       "  \"\u001b[32mBabka, f: Babka měla jablka.\u001b[39m\",\n",
       "  \"\u001b[32mVnouče, n: Vnouče mělo jablka.\u001b[39m\",\n",
       "]"
      ]
     },
     "execution_count": 9,
     "metadata": {},
     "output_type": "execute_result"
    }
   ],
   "source": [
    "out(function() {\n",
    "    $pattern = '{gender, select, m {{subject} měl jablka.} ' .\n",
    "                                'f {{subject} měla jablka.} ' .\n",
    "                                'n {{subject} mělo jablka.} ' .\n",
    "                                'other {{subject} si nezaslouží jablka.}}';\n",
    "    $formatter = new MessageFormatter('cs_CZ', $pattern);\n",
    "\n",
    "    $examples = [['subject' => 'Dědek', 'gender' => 'm'],\n",
    "                 ['subject' => 'Babka', 'gender' => 'f'],\n",
    "                 ['subject' => 'Vnouče', 'gender' => 'n']];\n",
    "    foreach ($examples as $example) {\n",
    "        yield [$example, $formatter->format($example)];\n",
    "    }\n",
    "});"
   ]
  },
  {
   "cell_type": "markdown",
   "metadata": {
    "slideshow": {
     "slide_type": "slide"
    }
   },
   "source": [
    "## Normalizer"
   ]
  },
  {
   "cell_type": "code",
   "execution_count": 10,
   "metadata": {
    "slideshow": {
     "slide_type": "subslide"
    }
   },
   "outputs": [
    {
     "data": {
      "text/plain": [
       "[\n",
       "  \"\u001b[32moriginal: kůň\u001b[39m\",\n",
       "  \"\u001b[32moriginal mb_strlen: 5\u001b[39m\",\n",
       "  \"\u001b[32moriginal Normalizer::isNormalized: false\u001b[39m\",\n",
       "  \"\u001b[32mnormalized: kůň\u001b[39m\",\n",
       "  \"\u001b[32mnormalized mb_strlen: 3\u001b[39m\",\n",
       "  \"\u001b[32mnormalized Normalizer::isNormalized: true\u001b[39m\",\n",
       "  \"\u001b[32m==: false\u001b[39m\",\n",
       "]"
      ]
     },
     "execution_count": 10,
     "metadata": {},
     "output_type": "execute_result"
    }
   ],
   "source": [
    "out(function () {\n",
    "    $original = 'k' . 'u' . '̊' . 'n' . '̌';\n",
    "    yield ['original', $original];\n",
    "    yield ['original mb_strlen', mb_strlen($original)];\n",
    "    yield ['original Normalizer::isNormalized', Normalizer::isNormalized($original)];\n",
    "\n",
    "    $normalized = Normalizer::normalize($original);\n",
    "    \n",
    "    yield ['normalized', $normalized];\n",
    "    yield ['normalized mb_strlen', mb_strlen($normalized)];\n",
    "    yield ['normalized Normalizer::isNormalized', Normalizer::isNormalized($normalized)];\n",
    "    \n",
    "    yield ['==', $original == $normalized];\n",
    "});"
   ]
  },
  {
   "cell_type": "markdown",
   "metadata": {
    "slideshow": {
     "slide_type": "notes"
    }
   },
   "source": [
    "Narazil jsem na chybu v jádře Ruby: při vytvoření souboru na souborovém systému HFS souborový systém název souboru normalizuje, když se předá nenormalizovaný. Ruby si ale ponechalo původní nenormalizovaný název, pod kterým zapsaný soubor nebylo možné nalézt."
   ]
  },
  {
   "cell_type": "markdown",
   "metadata": {
    "slideshow": {
     "slide_type": "slide"
    }
   },
   "source": [
    "## Transliterate"
   ]
  },
  {
   "cell_type": "code",
   "execution_count": 101,
   "metadata": {
    "slideshow": {
     "slide_type": "subslide"
    }
   },
   "outputs": [
    {
     "data": {
      "text/plain": [
       "[\n",
       "  \"\u001b[32muk-uk_Latn/BGN: Luhansk\u001b[39m\",\n",
       "  \"\u001b[32mru-ru_Latn/BGN: Lugansk\u001b[39m\",\n",
       "  \"\u001b[32mUpper: BINBIR\u001b[39m\",\n",
       "  \"\u001b[32mtr-Upper: BİNBİR\u001b[39m\",\n",
       "]"
      ]
     },
     "execution_count": 101,
     "metadata": {},
     "output_type": "execute_result"
    }
   ],
   "source": [
    "out(function () {\n",
    "    $ids = ['uk-uk_Latn/BGN', 'ru-ru_Latn/BGN'];\n",
    "    foreach ($ids as $id) {\n",
    "        $transliterator = Transliterator::create($id);\n",
    "        yield [$id, $transliterator->transliterate('Луганск')];\n",
    "    }\n",
    "\n",
    "    $ids = ['Upper', 'tr-Upper'];\n",
    "    foreach ($ids as $id) {\n",
    "        $transliterator = Transliterator::create($id);\n",
    "        yield [$id, $transliterator->transliterate('binbir')];\n",
    "    }\n",
    "});"
   ]
  },
  {
   "cell_type": "markdown",
   "metadata": {
    "slideshow": {
     "slide_type": "slide"
    }
   },
   "source": [
    "## IntlChar"
   ]
  },
  {
   "cell_type": "code",
   "execution_count": 11,
   "metadata": {
    "slideshow": {
     "slide_type": "subslide"
    }
   },
   "outputs": [
    {
     "data": {
      "text/plain": [
       "[\n",
       "  \"\u001b[32mň: LATIN SMALL LETTER N WITH CARON\u001b[39m\",\n",
       "  \"\u001b[32m℃: DEGREE CELSIUS\u001b[39m\",\n",
       "  \"\u001b[32mふ: HIRAGANA LETTER HU\u001b[39m\",\n",
       "  \"\u001b[32m갨: HANGUL SYLLABLE GAELS\u001b[39m\",\n",
       "  \"\u001b[32m🍺: BEER MUG\u001b[39m\",\n",
       "]"
      ]
     },
     "execution_count": 11,
     "metadata": {},
     "output_type": "execute_result"
    }
   ],
   "source": [
    "out(function () {\n",
    "    $chars = ['ň', '℃', 'ふ', '갨', '🍺'];\n",
    "    foreach ($chars as $char) {\n",
    "        yield [$char, IntlChar::charname($char)];\n",
    "    }\n",
    "});"
   ]
  },
  {
   "cell_type": "code",
   "execution_count": 12,
   "metadata": {
    "slideshow": {
     "slide_type": "subslide"
    }
   },
   "outputs": [
    {
     "data": {
      "text/plain": [
       "[\n",
       "  \"\u001b[32mŇ islower: false\u001b[39m\",\n",
       "  \"\u001b[32mŇ isgraph: true\u001b[39m\",\n",
       "  \"\u001b[32mň islower: true\u001b[39m\",\n",
       "  \"\u001b[32mň isgraph: true\u001b[39m\",\n",
       "  \"\u001b[32m🍺 islower: false\u001b[39m\",\n",
       "  \"\u001b[32m🍺 isgraph: true\u001b[39m\",\n",
       "]"
      ]
     },
     "execution_count": 12,
     "metadata": {},
     "output_type": "execute_result"
    }
   ],
   "source": [
    "out(function () {\n",
    "    $chars = ['Ň', 'ň', '🍺'];\n",
    "    foreach ($chars as $char) {\n",
    "        yield [\"{$char} islower\", IntlChar::islower($char)];\n",
    "        yield [\"{$char} isgraph\", IntlChar::isgraph($char)];\n",
    "    }\n",
    "});"
   ]
  },
  {
   "cell_type": "code",
   "execution_count": 13,
   "metadata": {
    "slideshow": {
     "slide_type": "fragment"
    }
   },
   "outputs": [
    {
     "data": {
      "text/plain": [
       "[\n",
       "  \"\u001b[32mmb_strlen: 1\u001b[39m\",\n",
       "  \"\u001b[32mIntlChar::isWhiteSpace: false\u001b[39m\",\n",
       "  \"\u001b[32mIntlChar::isUWhiteSpace: true\u001b[39m\",\n",
       "]"
      ]
     },
     "execution_count": 13,
     "metadata": {},
     "output_type": "execute_result"
    }
   ],
   "source": [
    "out(function () {\n",
    "    $char = ' ';\n",
    "    $trimmed = trim($char);\n",
    "    \n",
    "    yield ['mb_strlen', mb_strlen($trimmed)];\n",
    "    yield ['IntlChar::isWhiteSpace', IntlChar::isWhiteSpace($char)];\n",
    "    yield ['IntlChar::isUWhiteSpace', IntlChar::isUWhiteSpace($char)];\n",
    "});"
   ]
  },
  {
   "cell_type": "markdown",
   "metadata": {
    "slideshow": {
     "slide_type": "slide"
    }
   },
   "source": [
    "# 🧜🏿‍♂️"
   ]
  }
 ],
 "metadata": {
  "celltoolbar": "Slideshow",
  "kernelspec": {
   "display_name": "PHP",
   "language": "php",
   "name": "jupyter-php"
  },
  "language_info": {
   "file_extension": ".php",
   "mimetype": "text/x-php",
   "name": "PHP",
   "pygments_lexer": "PHP",
   "version": "7.2.11"
  }
 },
 "nbformat": 4,
 "nbformat_minor": 2
}
